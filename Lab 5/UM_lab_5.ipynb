{
  "cells": [
    {
      "cell_type": "markdown",
      "id": "c75d6eb1",
      "metadata": {
        "id": "c75d6eb1"
      },
      "source": [
        "# Uczenie Maszynowe (laboratorium 5)\n",
        "\n",
        "Bartosz Klimza"
      ]
    },
    {
      "cell_type": "markdown",
      "source": [
        "# Zaimportowanie bibliotek"
      ],
      "metadata": {
        "id": "tufo_zDjIgcf"
      },
      "id": "tufo_zDjIgcf"
    },
    {
      "cell_type": "code",
      "execution_count": 92,
      "id": "4239bbe8",
      "metadata": {
        "id": "4239bbe8"
      },
      "outputs": [],
      "source": [
        "from sklearn.datasets import load_iris, load_wine, load_boston \n",
        "from sklearn.model_selection import train_test_split, KFold, cross_val_score\n",
        "from sklearn.metrics import confusion_matrix, f1_score, accuracy_score\n",
        "from sklearn.preprocessing import StandardScaler\n",
        "from sklearn.decomposition import PCA\n",
        "from sklearn.base import BaseEstimator, ClassifierMixin\n",
        "import seaborn as sns\n",
        "import random\n",
        "from math import sqrt\n",
        "import numpy as np\n",
        "from numpy.linalg import inv\n",
        "from matplotlib import pyplot as plt\n",
        "import scipy.stats as stats"
      ]
    },
    {
      "cell_type": "markdown",
      "source": [
        "# Załadowanie zbiorów"
      ],
      "metadata": {
        "id": "zWjMM1ydIlSA"
      },
      "id": "zWjMM1ydIlSA"
    },
    {
      "cell_type": "code",
      "execution_count": 3,
      "id": "99add900",
      "metadata": {
        "colab": {
          "base_uri": "https://localhost:8080/"
        },
        "id": "99add900",
        "outputId": "b23daa1e-d18f-4641-c819-8a34f4306c31"
      },
      "outputs": [
        {
          "output_type": "stream",
          "name": "stderr",
          "text": [
            "/usr/local/lib/python3.7/dist-packages/sklearn/utils/deprecation.py:87: FutureWarning: Function load_boston is deprecated; `load_boston` is deprecated in 1.0 and will be removed in 1.2.\n",
            "\n",
            "    The Boston housing prices dataset has an ethical problem. You can refer to\n",
            "    the documentation of this function for further details.\n",
            "\n",
            "    The scikit-learn maintainers therefore strongly discourage the use of this\n",
            "    dataset unless the purpose of the code is to study and educate about\n",
            "    ethical issues in data science and machine learning.\n",
            "\n",
            "    In this special case, you can fetch the dataset from the original\n",
            "    source::\n",
            "\n",
            "        import pandas as pd\n",
            "        import numpy as np\n",
            "\n",
            "\n",
            "        data_url = \"http://lib.stat.cmu.edu/datasets/boston\"\n",
            "        raw_df = pd.read_csv(data_url, sep=\"\\s+\", skiprows=22, header=None)\n",
            "        data = np.hstack([raw_df.values[::2, :], raw_df.values[1::2, :2]])\n",
            "        target = raw_df.values[1::2, 2]\n",
            "\n",
            "    Alternative datasets include the California housing dataset (i.e.\n",
            "    :func:`~sklearn.datasets.fetch_california_housing`) and the Ames housing\n",
            "    dataset. You can load the datasets as follows::\n",
            "\n",
            "        from sklearn.datasets import fetch_california_housing\n",
            "        housing = fetch_california_housing()\n",
            "\n",
            "    for the California housing dataset and::\n",
            "\n",
            "        from sklearn.datasets import fetch_openml\n",
            "        housing = fetch_openml(name=\"house_prices\", as_frame=True)\n",
            "\n",
            "    for the Ames housing dataset.\n",
            "    \n",
            "  warnings.warn(msg, category=FutureWarning)\n"
          ]
        }
      ],
      "source": [
        "X_iris, y_iris = load_iris(return_X_y=True)\n",
        "X_wine, y_wine = load_wine(return_X_y=True)\n",
        "X_boston, y_boston = load_boston(return_X_y=True)"
      ]
    },
    {
      "cell_type": "markdown",
      "id": "628aef3e",
      "metadata": {
        "id": "628aef3e"
      },
      "source": [
        "# Gaussowski Naiwny Klasyfikator Bayesa"
      ]
    },
    {
      "cell_type": "code",
      "execution_count": 23,
      "id": "0fd6bd95",
      "metadata": {
        "id": "0fd6bd95"
      },
      "outputs": [],
      "source": [
        "class GNB(BaseEstimator, ClassifierMixin):\n",
        "    def fit(self, X, y):\n",
        "        self.priors = np.bincount(y) / len(y)\n",
        "        self.classes = np.max(y) + 1\n",
        "        self.means = np.array([X[np.where(y==i)].mean(axis=0) for i in range(self.classes)])\n",
        "        self.stds = np.array([X[np.where(y==i)].std(axis=0) for i in range(self.classes)])\n",
        "        return self\n",
        "    \n",
        "    def predict_prob(self, X):\n",
        "        result_list = []\n",
        "        for i in range(len(X)):\n",
        "            probas = []\n",
        "            for j in range(self.classes):\n",
        "                probas.append((1/np.sqrt(2*np.pi*self.stds[j]**2)*np.exp(-0.5*((X[i]-self.means[j])/self.stds[j])**2)).prod()*self.priors[j])\n",
        "            probas = np.array(probas)\n",
        "            result_list.append(probas / probas.sum())\n",
        "        return np.array(result_list)\n",
        "    \n",
        "    def predict(self, X):\n",
        "        result_list = self.predict_prob(X)\n",
        "        return result_list.argmax(axis=1)"
      ]
    },
    {
      "cell_type": "markdown",
      "source": [
        "## Test dla zbioru danych Iris"
      ],
      "metadata": {
        "id": "TR9oY5UqH3v6"
      },
      "id": "TR9oY5UqH3v6"
    },
    {
      "cell_type": "code",
      "execution_count": 47,
      "id": "0e6ec1ff",
      "metadata": {
        "colab": {
          "base_uri": "https://localhost:8080/"
        },
        "id": "0e6ec1ff",
        "outputId": "08e22da1-ce8a-4975-97e6-51eb1223f1c8"
      },
      "outputs": [
        {
          "output_type": "stream",
          "name": "stdout",
          "text": [
            "Mean error: 0.050555555555555555\n",
            "Std dev: 0.01718492471403063\n"
          ]
        }
      ],
      "source": [
        "error = 0\n",
        "error_list = []\n",
        "for _ in range(20):\n",
        "    gnb = GNB()\n",
        "    X_train, x_test, y_train, y_test = train_test_split(X_iris, y_iris, test_size=random.choice([0.4, 0.6]))\n",
        "    gnb.fit(X_train, y_train)\n",
        "    y_pred = gnb.predict(x_test)\n",
        "    error += 1 - accuracy_score(y_test, y_pred)\n",
        "    error_list.append(1 - accuracy_score(y_test, y_pred))\n",
        "mean_error = error / 20\n",
        "stdev = sqrt(sum([(i - mean_error) ** 2 for i in error_list]) / (len(error_list) - 1))\n",
        "print(\"Mean error:\", mean_error)\n",
        "print(\"Std dev:\", stdev)\n",
        "    "
      ]
    },
    {
      "cell_type": "markdown",
      "source": [
        "## Test dla zbioru danych Wine"
      ],
      "metadata": {
        "id": "Q3-NbnNkPtum"
      },
      "id": "Q3-NbnNkPtum"
    },
    {
      "cell_type": "markdown",
      "source": [
        "Standardowe skalowanie"
      ],
      "metadata": {
        "id": "Hj1cdX4mP0Jx"
      },
      "id": "Hj1cdX4mP0Jx"
    },
    {
      "cell_type": "code",
      "execution_count": 83,
      "id": "39196012",
      "metadata": {
        "colab": {
          "base_uri": "https://localhost:8080/"
        },
        "id": "39196012",
        "outputId": "0c41815e-44b3-4cf0-fde0-07d8f14855db"
      },
      "outputs": [
        {
          "output_type": "stream",
          "name": "stdout",
          "text": [
            "Mean accuracy: 0.9666666666666666\n"
          ]
        }
      ],
      "source": [
        "X_standard = StandardScaler().fit_transform(X_wine)\n",
        "accuracy = 0\n",
        "for _ in range(20):\n",
        "    gnb = GNB()\n",
        "    X_train, x_test, y_train, y_test = train_test_split(X_standard, y_wine, test_size=0.3)\n",
        "    gnb.fit(X_train, y_train)\n",
        "    y_pred = gnb.predict(x_test)\n",
        "    accuracy += accuracy_score(y_test, y_pred)\n",
        "mean_accuracy = accuracy / 20\n",
        "print(\"Mean accuracy:\", mean_accuracy)"
      ]
    },
    {
      "cell_type": "markdown",
      "source": [
        "PCA"
      ],
      "metadata": {
        "id": "jSQSwu3WSUWI"
      },
      "id": "jSQSwu3WSUWI"
    },
    {
      "cell_type": "code",
      "source": [
        "X_PCA = PCA(n_components=2).fit_transform(X_wine)\n",
        "accuracy = 0\n",
        "for _ in range(20):\n",
        "    gnb = GNB()\n",
        "    X_train, x_test, y_train, y_test = train_test_split(X_PCA, y_wine, test_size=0.3)\n",
        "    gnb.fit(X_train, y_train)\n",
        "    y_pred = gnb.predict(x_test)\n",
        "    accuracy += accuracy_score(y_test, y_pred)\n",
        "mean_accuracy = accuracy / 20\n",
        "print(\"Mean accuracy:\", mean_accuracy)"
      ],
      "metadata": {
        "colab": {
          "base_uri": "https://localhost:8080/"
        },
        "id": "s6Z4xCoPSXcR",
        "outputId": "b9dd1faf-a5fb-43b4-e2d1-b37251a4871b"
      },
      "id": "s6Z4xCoPSXcR",
      "execution_count": 74,
      "outputs": [
        {
          "output_type": "stream",
          "name": "stdout",
          "text": [
            "Mean accuracy: 0.7333333333333333\n"
          ]
        }
      ]
    },
    {
      "cell_type": "markdown",
      "source": [
        "Standardowe skalowanie + PCA"
      ],
      "metadata": {
        "id": "HpqSlBseRI4K"
      },
      "id": "HpqSlBseRI4K"
    },
    {
      "cell_type": "code",
      "source": [
        "X_PCA = PCA(n_components=2).fit_transform(X_standard)\n",
        "accuracy = 0\n",
        "for _ in range(20):\n",
        "    gnb = GNB()\n",
        "    X_train, x_test, y_train, y_test = train_test_split(X_PCA, y_wine, test_size=0.3)\n",
        "    gnb.fit(X_train, y_train)\n",
        "    y_pred = gnb.predict(x_test)\n",
        "    accuracy += accuracy_score(y_test, y_pred)\n",
        "mean_accuracy = accuracy / 20\n",
        "print(\"Mean accuracy:\", mean_accuracy)"
      ],
      "metadata": {
        "colab": {
          "base_uri": "https://localhost:8080/"
        },
        "id": "qQIofcMwRIcA",
        "outputId": "5eda2a63-3675-4c35-cd78-f1fd0144f9a8"
      },
      "id": "qQIofcMwRIcA",
      "execution_count": 79,
      "outputs": [
        {
          "output_type": "stream",
          "name": "stdout",
          "text": [
            "Mean accuracy: 0.9629629629629628\n"
          ]
        }
      ]
    },
    {
      "cell_type": "markdown",
      "source": [
        "# Wnioski"
      ],
      "metadata": {
        "id": "7qGOglhVUVCm"
      },
      "id": "7qGOglhVUVCm"
    },
    {
      "cell_type": "markdown",
      "source": [
        "Dla standardowego skalowania i połączenia skalowania i PCA otrzymałem podobne wyniki (dla pierwszej metody nieco lepsze). Dla samego PCA wynik jest wyraźnie słabszy."
      ],
      "metadata": {
        "id": "ZrrrUNWQUWNC"
      },
      "id": "ZrrrUNWQUWNC"
    },
    {
      "cell_type": "markdown",
      "source": [
        "# Liniowa Regresja Bayesowska online"
      ],
      "metadata": {
        "id": "Xg4vhEpbRrk9"
      },
      "id": "Xg4vhEpbRrk9"
    },
    {
      "cell_type": "code",
      "source": [
        " class BayesianLinearRegression:\n",
        "   def __init__(self, n_features, alpha, beta):\n",
        "       self.n_features = n_features\n",
        "       self.alpha = alpha\n",
        "       self.beta = beta\n",
        "       self.mean = np.zeros(n_features)\n",
        "       self.cov = np.identity(n_features) * alpha\n",
        "   def learn(self, x, y):\n",
        "       # Update the inverse covariance matrix (\n",
        "       # Equation 77\n",
        "       cov = inv(inv(self.cov) + self.beta * np.outer(x, x))\n",
        "\n",
        "       # Update the mean vector\n",
        "       # Equation 78\n",
        "       self.mean = cov @ (np.linalg.inv(self.cov) @ self.mean + self.beta * y * x)\n",
        "       \n",
        "       self.cov = cov\n",
        "       return self\n",
        "   def predict(self, x):\n",
        "       # Obtain the predictive mean\n",
        "       # Equation 62, Equation 80\n",
        "       y_pred_mean = x @ self.mean\n",
        "\n",
        "       # Obtain the predictive variance\n",
        "       # Equation 81\n",
        "       y_pred_var = (1 / self.beta) + x.T @ self.cov @ x\n",
        "\n",
        "       return stats.norm(loc=y_pred_mean, scale=y_pred_var ** .5)\n",
        "   @property\n",
        "   def weights_dist(self):\n",
        "       return stats.multivariate_normal(mean=self.mean, cov=self.cov)\n",
        "  "
      ],
      "metadata": {
        "id": "LPV4H1IjSnE1"
      },
      "id": "LPV4H1IjSnE1",
      "execution_count": 133,
      "outputs": []
    },
    {
      "cell_type": "markdown",
      "source": [
        "## Przetestowanie modelu na zbiorze Boston"
      ],
      "metadata": {
        "id": "YmMgEFaXqdAq"
      },
      "id": "YmMgEFaXqdAq"
    },
    {
      "cell_type": "code",
      "source": [
        "blr = BayesianLinearRegression(X_boston.shape[1], 0.3, 1)\n",
        "\n",
        "predicted = []\n",
        "for (x, y) in zip(X_boston, y_boston):\n",
        "  predicted.append(blr.predict(x).mean())\n",
        "  blr.learn(x, y)\n",
        "plt.plot(range(y_boston.shape[0]), np.abs(y_boston - predicted))"
      ],
      "metadata": {
        "colab": {
          "base_uri": "https://localhost:8080/",
          "height": 282
        },
        "id": "bk3Wifx-qg-o",
        "outputId": "93f28567-25dd-4138-d6a7-4bde3c44e6e3"
      },
      "id": "bk3Wifx-qg-o",
      "execution_count": 134,
      "outputs": [
        {
          "output_type": "execute_result",
          "data": {
            "text/plain": [
              "[<matplotlib.lines.Line2D at 0x7fd232460190>]"
            ]
          },
          "metadata": {},
          "execution_count": 134
        },
        {
          "output_type": "display_data",
          "data": {
            "image/png": "[encoded data removed]",
            "text/plain": [
              "<Figure size 432x288 with 1 Axes>"
            ]
          },
          "metadata": {
            "needs_background": "light"
          }
        }
      ]
    },
    {
      "cell_type": "markdown",
      "source": [
        "Błąd utrzymuje się na stałym poziomie poza kilkoma przypadkami."
      ],
      "metadata": {
        "id": "cdTmCafSxwPx"
      },
      "id": "cdTmCafSxwPx"
    },
    {
      "cell_type": "markdown",
      "source": [
        "## Wygenerowanie szucznego zbioru z szumem Gaussowskim"
      ],
      "metadata": {
        "id": "LOEgl3vcSS-o"
      },
      "id": "LOEgl3vcSS-o"
    },
    {
      "cell_type": "code",
      "source": [
        "space = np.linspace(-1, 1, 10)\n",
        "new_set = [[space[i], -0.2 + 0.6 * space[i] + np.random.normal(0, 0.2, 10)[i]] for i in range(len(space))]\n",
        "\n",
        "print(new_set)"
      ],
      "metadata": {
        "colab": {
          "base_uri": "https://localhost:8080/"
        },
        "id": "e4cIa0qFRusZ",
        "outputId": "a8edd1d3-9837-4a4c-af59-e3e0e1bf5744"
      },
      "id": "e4cIa0qFRusZ",
      "execution_count": 69,
      "outputs": [
        {
          "output_type": "stream",
          "name": "stdout",
          "text": [
            "[[-1.0, -0.8988460917994952], [-0.7777777777777778, -0.4470904729391728], [-0.5555555555555556, -0.2379548042277837], [-0.33333333333333337, -0.6252053635272928], [-0.11111111111111116, -0.5814935477492704], [0.11111111111111116, -0.18972031963578043], [0.33333333333333326, 0.1994589798195347], [0.5555555555555554, 0.2445800027367923], [0.7777777777777777, 0.38060692743541186], [1.0, 0.4707704386306809]]\n"
          ]
        }
      ]
    }
  ],
  "metadata": {
    "kernelspec": {
      "display_name": "Python 3",
      "language": "python",
      "name": "python3"
    },
    "language_info": {
      "codemirror_mode": {
        "name": "ipython",
        "version": 3
      },
      "file_extension": ".py",
      "mimetype": "text/x-python",
      "name": "python",
      "nbconvert_exporter": "python",
      "pygments_lexer": "ipython3",
      "version": "3.8.8"
    },
    "colab": {
      "name": "UM_lab_5.ipynb",
      "provenance": []
    }
  },
  "nbformat": 4,
  "nbformat_minor": 5
}